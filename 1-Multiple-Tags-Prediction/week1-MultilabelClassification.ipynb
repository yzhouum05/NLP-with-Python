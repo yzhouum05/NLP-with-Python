{
 "cells": [
  {
   "cell_type": "markdown",
   "metadata": {},
   "source": [
    "# Tag Prediction for StackOverflow Posts - Multilabel Classification\n",
    "\n",
    "We will predict tags for posts from [StackOverflow](https://stackoverflow.com) with linear models.\n",
    "\n",
    "### Libraries\n",
    "\n",
    "- [Numpy](http://www.numpy.org) — a package for scientific computing.\n",
    "- [Pandas](https://pandas.pydata.org) — a library providing high-performance, easy-to-use data structures and data analysis tools for the Python\n",
    "- [scikit-learn](http://scikit-learn.org/stable/index.html) — a tool for data mining and data analysis.\n",
    "- [NLTK](http://www.nltk.org) — a platform to work with natural language.\n",
    "\n",
    "### Pipeline\n",
    "1. Text Preprocessing\n",
    "2. Text Vectorization - BoW, Tf-idf\n",
    "3. One Vs Rest Classifier Training\n",
    "4. Evaluation - Accuracy, F1-score, AUROC, AP\n",
    "5. Optimization \n",
    "   - Vectorization\n",
    "   - Estimator Selection\n",
    "   - Hyperparameter Tuning"
   ]
  },
  {
   "cell_type": "markdown",
   "metadata": {},
   "source": [
    "### Text Preprocessing\n",
    "\n",
    "Three data sets for training, validation and testing.\n",
    "\n",
    "All corpora contain post titles from StackOverflow and tags (100 tags are available) except for *test*. \n",
    "\n",
    "The number of tags for a post is not fixed and could be as many as necessary. Thus, it is a multilabel classification task."
   ]
  },
  {
   "cell_type": "code",
   "execution_count": 3,
   "metadata": {
    "collapsed": true
   },
   "outputs": [],
   "source": [
    "import nltk\n",
    "#nltk.download('stopwords')\n",
    "from nltk.corpus import stopwords\n",
    "from ast import literal_eval\n",
    "import pandas as pd\n",
    "import numpy as np\n",
    "\n",
    "def read_data(filename):\n",
    "    data = pd.read_csv(filename, sep='\\t')\n",
    "    data['tags'] = data['tags'].apply(literal_eval)\n",
    "    return data\n",
    "\n",
    "train = read_data('data/train.tsv')\n",
    "validation = read_data('data/validation.tsv')\n",
    "test = pd.read_csv('data/test.tsv', sep='\\t')\n",
    "\n",
    "train.head(10)"
   ]
  },
  {
   "cell_type": "code",
   "execution_count": 5,
   "metadata": {
    "collapsed": true
   },
   "outputs": [],
   "source": [
    "# initialization\n",
    "X_train, y_train = train['title'].values, train['tags'].values\n",
    "X_val, y_val = validation['title'].values, validation['tags'].values\n",
    "X_test = test['title'].values"
   ]
  },
  {
   "cell_type": "markdown",
   "metadata": {},
   "source": [
    "**Task 1 Text Preparation ** "
   ]
  },
  {
   "cell_type": "code",
   "execution_count": 7,
   "metadata": {
    "collapsed": true
   },
   "outputs": [],
   "source": [
    "import re\n",
    "\n",
    "REPLACE_BY_SPACE_RE = re.compile('[/(){}\\[\\]\\|@,;]')\n",
    "BAD_SYMBOLS_RE = re.compile('[^0-9a-z #+_]')\n",
    "STOPWORDS = set(stopwords.words('english'))\n",
    "\n",
    "def text_prepare(text):\n",
    "    \"\"\"\n",
    "        text: a string\n",
    "        return: modified initial string\n",
    "    \"\"\"\n",
    "    # 1. Lowercase text\n",
    "    text = text.lower() \n",
    "    # 2. Replace '/', '()', '{}', '[]', '|', '@', ',', ';' by space\n",
    "    text = REPLACE_BY_SPACE_RE.sub(' ',text)\n",
    "    # 3. Delete the non-alphanumerics excluding '#', '+', '_'\n",
    "    text = BAD_SYMBOLS_RE.sub('',text)\n",
    "    # 4. Delete stopwords\n",
    "    text_words = text.split()\n",
    "    text_words = [t for t in text_words if t not in STOPWORDS]\n",
    "    text = ' '.join(text_words)\n",
    "    return text\n",
    "\n",
    "# First, test it on a small case\n",
    "def test_text_prepare():\n",
    "    examples = [\"SQL Server - any equivalent of Excel's CHOOSE function?\",\n",
    "                \"How to free c++ memory vector<int> * arr?\"]\n",
    "    answers = [\"sql server equivalent excels choose function\", \n",
    "               \"free c++ memory vectorint arr\"]\n",
    "    for ex, ans in zip(examples, answers):\n",
    "        if text_prepare(ex) != ans:\n",
    "            return \"Wrong answer for the case: '%s'\" % ex\n",
    "    return 'Basic tests are passed.'\n",
    "\n",
    "print(test_text_prepare())"
   ]
  },
  {
   "cell_type": "code",
   "execution_count": 114,
   "metadata": {
    "scrolled": true
   },
   "outputs": [],
   "source": [
    "# Then, test it on a bigger case with 100 sentences\n",
    "text_prepare_results = pd.read_csv('data/text_prepare_tests.tsv', header = None, sep='\\t')\n",
    "text_prepare_results.rename(columns = {0:'Original'}, inplace = True)\n",
    "text_prepare_results['Prepared'] = text_prepare_results['Original'].apply(text_prepare)\n",
    "text_prepare_results"
   ]
  },
  {
   "cell_type": "code",
   "execution_count": 117,
   "metadata": {},
   "outputs": [],
   "source": [
    "# Save it to a tsv file to better check if all the texts are successfully processed.\n",
    "text_prepare_results.to_csv('data/text_prepare_results.tsv', sep='\\t')"
   ]
  },
  {
   "cell_type": "markdown",
   "metadata": {},
   "source": [
    "After testing is finished, we can preprocess the titles in the data sets using function text_prepare."
   ]
  },
  {
   "cell_type": "code",
   "execution_count": 10,
   "metadata": {
    "collapsed": true
   },
   "outputs": [],
   "source": [
    "X_train = [text_prepare(x) for x in X_train]\n",
    "X_val = [text_prepare(x) for x in X_val]\n",
    "X_test = [text_prepare(x) for x in X_test]\n",
    "X_train[:10]"
   ]
  },
  {
   "cell_type": "markdown",
   "metadata": {},
   "source": [
    "**Task 2 WordsTagsCount ** "
   ]
  },
  {
   "cell_type": "code",
   "execution_count": 11,
   "metadata": {
    "collapsed": true,
    "scrolled": true
   },
   "outputs": [],
   "source": [
    "# Compute the occurances of each tag and word in the train corpus, i.e. {'word/tag': frequency}\n",
    "from collections import defaultdict\n",
    "tags_counts = defaultdict(int)\n",
    "words_counts = defaultdict(int)\n",
    "for labels in y_train:\n",
    "    for tag in labels:\n",
    "        tags_counts[tag] += 1\n",
    "for sent in X_train:\n",
    "    for word in sent.split():\n",
    "        words_counts[word] += 1\n",
    "\n",
    "# Find 3 most popular tags and 3 most popular words in the train data.\n",
    "most_common_tags = sorted(tags_counts.items(), key=lambda x: x[1], reverse=True)[:3]\n",
    "most_common_words = sorted(words_counts.items(), key=lambda x: x[1], reverse=True)[:3]\n",
    "print(most_common_tags)\n",
    "print(most_common_words)"
   ]
  },
  {
   "cell_type": "markdown",
   "metadata": {},
   "source": [
    "### Transforming Text to Vector\n",
    "\n",
    "#### Bag of words\n",
    "\n",
    "1. Find *N* most popular words in train corpus and numerate them. Now we have a dictionary of the most popular words.\n",
    "2. For each title in the corpora create a zero vector with the dimension equals to *N*.\n",
    "3. For each text in the corpora iterate over words which are in the dictionary and increase by 1 the corresponding coordinate."
   ]
  },
  {
   "cell_type": "code",
   "execution_count": 13,
   "metadata": {
    "collapsed": true
   },
   "outputs": [],
   "source": [
    "# Set the dictionary size 5000\n",
    "DICT_SIZE = 5000\n",
    "# Use train data to find the 5000 most common words\n",
    "ALL_WORDS = sorted([x for x in words_counts.keys()], key=lambda x: words_counts[x], reverse=True)[:DICT_SIZE]\n",
    "WORDS_TO_INDEX = {ALL_WORDS[x]: x for x in range(DICT_SIZE)}\n",
    "INDEX_TO_WORDS = {x: ALL_WORDS[x] for x in range(DICT_SIZE)}\n",
    "\n",
    "def my_bag_of_words(text, words_to_index, dict_size):\n",
    "    \"\"\"\n",
    "        text: a string\n",
    "        words_to_index: a list of words ordered by frequency\n",
    "        dict_size: size of the dictionary\n",
    "        \n",
    "        return a vector which is a bag-of-words representation of 'text'\n",
    "    \"\"\"\n",
    "    result_vector = np.zeros(dict_size)\n",
    "    for word in text.split():\n",
    "        if word in words_to_index:\n",
    "            result_vector[words_to_index[word]] += 1\n",
    "    return result_vector\n",
    "\n",
    "# First test it on a small case\n",
    "def test_my_bag_of_words():\n",
    "    words_to_index = {'hi': 0, 'you': 1, 'me': 2, 'are': 3}\n",
    "    examples = ['hi how are you']\n",
    "    answers = [[1, 1, 0, 1]]\n",
    "    for ex, ans in zip(examples, answers):\n",
    "        if (my_bag_of_words(ex, words_to_index, 4) != ans).any():\n",
    "            return \"Wrong answer for the case: '%s'\" % ex\n",
    "    return 'Basic tests are passed.'\n",
    "\n",
    "print(test_my_bag_of_words())"
   ]
  },
  {
   "cell_type": "markdown",
   "metadata": {},
   "source": [
    "Now apply the implemented function to all samples (this might take up to a minute). We transform the data to sparse representation, to store the useful information efficiently. There are many [types](https://docs.scipy.org/doc/scipy/reference/sparse.html) of such representations, however sklearn algorithms can work only with [csr](https://docs.scipy.org/doc/scipy/reference/generated/scipy.sparse.csr_matrix.html#scipy.sparse.csr_matrix) matrix, so we will use this one."
   ]
  },
  {
   "cell_type": "code",
   "execution_count": 15,
   "metadata": {
    "collapsed": true
   },
   "outputs": [],
   "source": [
    "from scipy import sparse as sp_sparse\n",
    "\n",
    "X_train_mybag = sp_sparse.vstack([sp_sparse.csr_matrix(my_bag_of_words(text, WORDS_TO_INDEX, DICT_SIZE)) for text in X_train])\n",
    "X_val_mybag = sp_sparse.vstack([sp_sparse.csr_matrix(my_bag_of_words(text, WORDS_TO_INDEX, DICT_SIZE)) for text in X_val])\n",
    "X_test_mybag = sp_sparse.vstack([sp_sparse.csr_matrix(my_bag_of_words(text, WORDS_TO_INDEX, DICT_SIZE)) for text in X_test])\n",
    "\n",
    "print('X_train shape ', X_train_mybag.shape)\n",
    "print('X_val shape ', X_val_mybag.shape)\n",
    "print('X_test shape ', X_test_mybag.shape)"
   ]
  },
  {
   "cell_type": "code",
   "execution_count": 17,
   "metadata": {},
   "outputs": [
    {
     "data": {
      "text/plain": [
       "7"
      ]
     },
     "execution_count": 17,
     "metadata": {},
     "output_type": "execute_result"
    }
   ],
   "source": [
    "# For the 11th row in *X_train_mybag* find how many non-zero elements it has.\n",
    "row = X_train_mybag[10].toarray()[0]\n",
    "non_zero_elements_count = sum(row != 0)\n",
    "non_zero_elements_count"
   ]
  },
  {
   "cell_type": "markdown",
   "metadata": {},
   "source": [
    "#### TF-IDF\n",
    "\n",
    "It extends the bag-of-words framework by taking into account total frequencies of words in the corpora. It helps to penalize too frequent words and provide better features space. "
   ]
  },
  {
   "cell_type": "code",
   "execution_count": 18,
   "metadata": {
    "collapsed": true
   },
   "outputs": [],
   "source": [
    "from sklearn.feature_extraction.text import TfidfVectorizer\n",
    "\n",
    "def tfidf_features(X_train, X_val, X_test):\n",
    "    \"\"\"\n",
    "        X_train, X_val, X_test — samples        \n",
    "        return TF-IDF vectorized representation of each sample and vocabulary\n",
    "    \"\"\"\n",
    "\n",
    "    # 1. Create TF-IDF vectorizer with a proper parameters choice\n",
    "    \n",
    "    # Filter out too rare words (occur less than in 5 titles) \n",
    "    # and too frequent words (occur more than in 90% of the titles). \n",
    "    # Use bigrams along with unigrams.\n",
    "    # '(\\S+)' matches any non-whitespace character\n",
    "    tfidf_vectorizer = TfidfVectorizer(ngram_range=(1, 2), max_df = 0.9, min_df = 5, token_pattern = '(\\S+)')\n",
    "    \n",
    "    # 2. Fit the vectorizer on the train set\n",
    "    # 3. Transform the train, test, and val sets and return the result\n",
    "    X_train = tfidf_vectorizer.fit_transform(X_train)\n",
    "    X_val = tfidf_vectorizer.transform(X_val)\n",
    "    X_test = tfidf_vectorizer.transform(X_test)\n",
    "    \n",
    "    return X_train, X_val, X_test, tfidf_vectorizer.vocabulary_"
   ]
  },
  {
   "cell_type": "markdown",
   "metadata": {},
   "source": [
    "Once you have done text preprocessing, always have a look at the results, because the performance of future models will drastically depend on it."
   ]
  },
  {
   "cell_type": "code",
   "execution_count": 21,
   "metadata": {},
   "outputs": [],
   "source": [
    "X_train_tfidf, X_val_tfidf, X_test_tfidf, tfidf_vocab = tfidf_features(X_train, X_val, X_test)\n",
    "tfidf_reversed_vocab = {i:word for word,i in tfidf_vocab.items()}\n",
    "\n",
    "# Check if c++ or c# are in our vocabulary, as they are obviously important tokens in our tags prediction task.\n",
    "tfidf_vocab['c#'], tfidf_vocab['c++']"
   ]
  },
  {
   "cell_type": "markdown",
   "metadata": {},
   "source": [
    "### MultiLabel Classifier\n",
    "\n",
    "As we have noticed before, in this task each example can have multiple tags. To deal with such kind of prediction, we need to transform labels in a binary form and the prediction will be a mask of 0s and 1s. For this purpose it is convenient to use [MultiLabelBinarizer](http://scikit-learn.org/stable/modules/generated/sklearn.preprocessing.MultiLabelBinarizer.html) from *sklearn*."
   ]
  },
  {
   "cell_type": "code",
   "execution_count": 22,
   "metadata": {
    "collapsed": true
   },
   "outputs": [],
   "source": [
    "from sklearn.preprocessing import MultiLabelBinarizer"
   ]
  },
  {
   "cell_type": "code",
   "execution_count": 23,
   "metadata": {
    "collapsed": true
   },
   "outputs": [],
   "source": [
    "mlb = MultiLabelBinarizer(classes=sorted(tags_counts.keys()))\n",
    "y_train = mlb.fit_transform(y_train)\n",
    "y_val = mlb.fit_transform(y_val)"
   ]
  },
  {
   "cell_type": "markdown",
   "metadata": {},
   "source": [
    "Implement the function *train_classifier* for training a classifier. In this task we suggest to use One-vs-Rest approach, which is implemented in [OneVsRestClassifier](http://scikit-learn.org/stable/modules/generated/sklearn.multiclass.OneVsRestClassifier.html) class. In this approach *k* classifiers (= number of tags) are trained. As a basic classifier, use [LogisticRegression](http://scikit-learn.org/stable/modules/generated/sklearn.linear_model.LogisticRegression.html). It is one of the simplest methods, but often it performs good enough in text classification tasks. It might take some time, because a number of classifiers to train is large."
   ]
  },
  {
   "cell_type": "code",
   "execution_count": 24,
   "metadata": {
    "collapsed": true
   },
   "outputs": [],
   "source": [
    "from sklearn.multiclass import OneVsRestClassifier\n",
    "from sklearn.linear_model import LogisticRegression, RidgeClassifier"
   ]
  },
  {
   "cell_type": "code",
   "execution_count": 25,
   "metadata": {
    "collapsed": true
   },
   "outputs": [],
   "source": [
    "def train_classifier(X_train, y_train):\n",
    "    \"\"\"\n",
    "      X_train, y_train — training data\n",
    "      \n",
    "      return: trained classifier\n",
    "    \"\"\"\n",
    "    \n",
    "    # Create and fit LogisticRegression wraped into OneVsRestClassifier.\n",
    "    \n",
    "    mlb_clf = OneVsRestClassifier(LogisticRegression())\n",
    "    mlb_clf.fit(X_train, y_train)\n",
    "    return mlb_clf"
   ]
  },
  {
   "cell_type": "markdown",
   "metadata": {},
   "source": [
    "Train the classifiers for different data transformations: *bag-of-words* and *tf-idf*."
   ]
  },
  {
   "cell_type": "code",
   "execution_count": 26,
   "metadata": {
    "collapsed": true
   },
   "outputs": [],
   "source": [
    "classifier_mybag = train_classifier(X_train_mybag, y_train)\n",
    "classifier_tfidf = train_classifier(X_train_tfidf, y_train)"
   ]
  },
  {
   "cell_type": "markdown",
   "metadata": {},
   "source": [
    "Now you can create predictions for the data. You will need two types of predictions: labels and scores."
   ]
  },
  {
   "cell_type": "code",
   "execution_count": 27,
   "metadata": {
    "collapsed": true
   },
   "outputs": [],
   "source": [
    "y_val_predicted_labels_mybag = classifier_mybag.predict(X_val_mybag)\n",
    "y_val_predicted_scores_mybag = classifier_mybag.decision_function(X_val_mybag)\n",
    "\n",
    "y_val_predicted_labels_tfidf = classifier_tfidf.predict(X_val_tfidf)\n",
    "y_val_predicted_scores_tfidf = classifier_tfidf.decision_function(X_val_tfidf)"
   ]
  },
  {
   "cell_type": "code",
   "execution_count": 34,
   "metadata": {},
   "outputs": [
    {
     "data": {
      "text/plain": [
       "array([[ -3.57333854,  -5.40535768,  -5.8563761 ,  -3.58218358,\n",
       "         -4.94420628,  -6.15913867,  -5.6840656 ,  -2.89216017,\n",
       "         -5.03064451,  -3.70003706,  -1.0338071 ,  -2.88596423,\n",
       "         -6.72166585,  -5.29443692,  -5.98761993,  -5.29171378,\n",
       "         -7.35216875,  -4.97241912,  -6.55103344,  -6.06368965,\n",
       "         -5.25047179,  -5.81711271,  -5.14611721,  -5.53974294,\n",
       "         -7.92856649,  -6.85757949,  -5.82682005,  -6.09791403,\n",
       "         -7.04633273,  -6.62150369,  -7.2420952 ,  -5.44081946,\n",
       "         -4.19447141,  -4.58681795,  -5.47350139,  -3.39853886,\n",
       "         -2.95229668,  -1.66051432,  -3.05979635,  -4.17494814,\n",
       "         -5.19651909,  -6.0165206 ,  -6.63085418,  -5.73334577,\n",
       "         -4.4653379 ,  -5.94186588,  -6.88394539,  -6.24929203,\n",
       "         -6.44882119,  -4.61560853,  -4.80670971,  -5.76642122,\n",
       "         -5.75591137,  -3.19705786,  -5.96048586,  -5.25361676,\n",
       "         -5.72012052,  -6.46092795,  -6.36970295,  -5.32810359,\n",
       "         -2.26671462,  -6.40411044,  -2.89320454,  -5.9299567 ,\n",
       "         -5.99903821,  -5.05734558,  -5.00928445,  -6.00101184,\n",
       "         -6.29057534,  -3.80427627,  -3.40003201,  -4.8409082 ,\n",
       "         -7.06124639,  -5.00863595,  -7.46836728,  -6.76594042,\n",
       "         -6.8085865 ,  -5.40523379,  -6.33667618,  -4.58435905,\n",
       "         -5.9281272 ,  -5.21724319,  -4.39097651,  -4.66652803,\n",
       "         -7.04867943,  -5.50676995,  -6.05329785,  -8.06987369,\n",
       "         -5.13210577,  -5.79837811,  -5.65285587,  -6.80687964,\n",
       "         -6.22017928,  -4.5140107 ,  -4.44384713,  -6.7585215 ,\n",
       "         -4.30199881,  -6.5650631 ,  -4.03072587,  -5.90767395],\n",
       "       [ -3.08611463,  -7.28793759,  -9.07321744,  -4.93165714,\n",
       "         -7.6708851 ,  -7.77444348,  -5.79886092,  -4.16444107,\n",
       "         -4.72935693,  -6.09692409,  -1.33136248,  -1.85675723,\n",
       "         -1.22448745,  -5.92798003,  -7.01808812,  -5.4353705 ,\n",
       "         -8.94153681,  -6.81730431,  -7.67502006,  -9.57495004,\n",
       "         -5.32060234,  -5.63776379,  -5.28891482,  -6.70021811,\n",
       "         -8.87737292,  -8.52474743,  -7.3000229 ,  -9.887568  ,\n",
       "         -6.92199434,  -6.55113469,  -6.9201517 ,  -5.23442833,\n",
       "         -5.19063047,  -7.67560691,  -8.8816361 ,  -6.75846414,\n",
       "         -5.84475925,  -1.75164017,  -3.21149897,  -5.10928796,\n",
       "         -6.19238112,  -5.53312012,  -7.38300928,  -6.76526192,\n",
       "         -6.43950432,  -7.98565573,  -7.11303004,  -6.51839194,\n",
       "         -8.03022915,  -7.15195784,  -6.04828259,  -7.30757643,\n",
       "         -7.95527161,  -5.37498349,  -1.4984653 ,  -7.74052413,\n",
       "         -7.58620137,  -9.11311277,  -8.60413039,  -7.11232651,\n",
       "         -3.19131136,  -4.73999619,  -3.51929433,  -6.20917132,\n",
       "         -6.25168003,  -6.60063764,  -6.46074894,  -7.65531673,\n",
       "         -7.42414891,  -3.91922658,  -7.18493089,  -5.97686217,\n",
       "         -8.03210573,  -6.28052319,  -7.59376198,  -9.10769883,\n",
       "         -9.72112735,  -4.89200911,  -6.79227114,  -7.00118838,\n",
       "         -6.96704847,  -7.22015051,  -4.97229021,  -7.0486367 ,\n",
       "         -5.99854905,  -8.17242919,  -8.06980995,  -8.28410076,\n",
       "         -3.35387558,  -6.05821915,  -6.62831354,  -8.58479762,\n",
       "         -6.02667874,  -7.12581658,  -5.83978802,  -8.75968821,\n",
       "         -4.60007608,  -6.40689794,  -5.02734421,  -5.6496501 ],\n",
       "       [ -7.50379397,  -3.5065245 ,  -7.3220868 ,  -4.90050982,\n",
       "         -6.89442504,  -7.56665683,  -5.91824075,  -6.18890764,\n",
       "         -6.60107905,  -7.02949008,  -4.96702323,  -7.96481401,\n",
       "         -9.14529129,  -7.83215827,  -7.6606281 ,  -6.57733159,\n",
       "         -8.43237091,  -5.74908613,  -6.05375434,  -6.34677233,\n",
       "         -6.84128258,  -8.75683553,  -6.61476959,  -7.9705327 ,\n",
       "         -8.28516211,  -6.10672755,  -7.94273753,  -5.72594027,\n",
       "         -8.41828251,  -8.39439812,  -7.27770311,  -5.84386356,\n",
       "         -6.08731829,  -6.02467622,  -8.55038123,  -5.19270409,\n",
       "         -5.51356796,  -5.16287653,  -4.06796657,  -3.65303916,\n",
       "         -0.2766202 ,  -7.02041989,  -7.95673845,  -8.17576932,\n",
       "         -6.56784974,  -7.24927259,  -5.40326483,  -7.53884184,\n",
       "         -7.30829647,  -6.60606526,  -5.27202531,  -7.53577703,\n",
       "         -7.86001526,  -5.27525515,  -7.79465664,  -8.31899274,\n",
       "         -5.63118498,  -8.92260848,  -7.87967428,  -7.38476366,\n",
       "         -6.51689552,  -8.86379955,  -5.27284708,  -8.09616389,\n",
       "         -8.83672044,  -7.33676111,  -9.21237522,  -7.63570084,\n",
       "         -3.70556528,  -2.51337929,   3.4602451 ,  -3.06986923,\n",
       "         -8.92338737,  -7.05301341,  -6.89311749,  -8.12179773,\n",
       "         -8.79299944,  -5.14322121,  -5.15632597,  -5.97259975,\n",
       "         -7.14943047,  -7.2514259 ,  -6.50027236,  -8.08721931,\n",
       "         -5.89428502,  -7.49192885,  -7.56262778,  -5.6971152 ,\n",
       "         -6.95658384,  -7.5087825 ,  -7.22501761,  -6.22822154,\n",
       "         -6.25538125,  -6.07390227,  -7.45005452,  -8.87842233,\n",
       "         -6.90979909,  -7.84882923,  -7.22489009,  -5.9256865 ],\n",
       "       [ -4.69215707,  -5.40547703,  -6.0363804 ,  -4.08503235,\n",
       "         -6.17828421,  -7.00753236,  -4.52832607,  -3.06008624,\n",
       "         -3.7635485 ,  -4.39683754,  -3.25674122,  -3.39362933,\n",
       "         -6.03235252,  -4.55348966,  -3.67955035,  -6.46745835,\n",
       "         -7.47143825,  -5.89392807,  -6.84747267,  -6.35844832,\n",
       "         -6.60506207,  -7.18954359,  -6.09914254,  -5.36956944,\n",
       "         -7.6248501 ,  -7.24120066,  -7.47136373,  -5.0876736 ,\n",
       "         -5.82898202,  -6.74605657,  -5.09966864,  -6.55492504,\n",
       "         -4.53436658,  -4.54264538,  -7.2944939 ,  -5.15996496,\n",
       "         -4.5433303 ,  -2.63562388,  -4.8084355 ,  -4.90740655,\n",
       "         -5.1023264 ,  -4.09660284,  -7.15748686,  -6.56250459,\n",
       "         -4.86922437,  -6.7644287 ,  -6.97262883,  -6.06250773,\n",
       "         -6.45757723,  -5.00379233,  -4.47580483,  -6.78960863,\n",
       "         -6.311125  ,  -4.29592226,  -6.06183833,  -6.74332577,\n",
       "         -5.55159084,  -8.31942993,  -7.58159722,  -7.68406238,\n",
       "         -0.85005531,  -6.49385499,  -4.16591175,  -5.05821421,\n",
       "         -5.99529454,  -6.21715553,  -4.89980453,  -6.58131115,\n",
       "         -5.45929188,   0.46589623,  -4.71223135,  -4.61161097,\n",
       "         -5.32944543,  -5.47259539,  -0.1752154 ,  -7.30563035,\n",
       "         -7.3128622 ,  -6.27106848,  -5.50592947,  -5.29511448,\n",
       "         -6.07146073,  -5.65479453,  -5.87545424,  -6.18031226,\n",
       "         -5.82229665,  -7.18245898,  -6.14604701,  -5.68250629,\n",
       "         -4.65540311,  -6.81859505,  -6.63211712,  -7.82690135,\n",
       "         -5.469055  ,  -6.75596714,  -6.83465698,  -6.79100353,\n",
       "         -5.29177607,  -4.7485659 ,  -5.51814695,  -5.73689759],\n",
       "       [ -6.39844025,  -6.31088993,  -9.29416044,  -4.8028323 ,\n",
       "         -6.6183222 ,  -6.57472629,  -5.98193809,  -4.8285376 ,\n",
       "         -4.27416992,  -7.49869937,  -5.12127989,  -7.58920281,\n",
       "         -8.35617941,  -7.52014489,  -6.15712436,  -9.20013095,\n",
       "         -6.76254295,  -2.74806073,  -6.90657564,  -8.89748934,\n",
       "         -4.80976005,  -7.01181119,  -6.01918076,  -5.9471158 ,\n",
       "         -7.95775504,  -7.75797799,  -7.94144105,  -6.57377557,\n",
       "         -9.0518604 ,  -6.76737255,  -7.32884088,  -3.04722237,\n",
       "         -6.62538257,  -6.93568373,  -8.27254448,  -4.8687173 ,\n",
       "         -6.81172086,  -3.23227156,  -5.14402659,  -4.6225125 ,\n",
       "          2.11967313,  -6.63052798,  -6.43796023,  -6.58011784,\n",
       "         -7.70337942,  -8.26190218,  -7.8950543 ,  -5.67634086,\n",
       "         -5.13701025,  -8.4632853 ,  -4.01703108,  -7.74429535,\n",
       "         -7.77000262,  -5.6859777 ,  -7.1076123 ,  -7.28233332,\n",
       "         -7.32432872,  -8.08503111,  -6.75799365, -10.11598292,\n",
       "         -2.98535121,  -7.26528343,  -4.66139317,  -4.32836233,\n",
       "         -6.04596432,  -8.1042192 ,  -8.04831636,  -8.13027961,\n",
       "         -6.22835897,  -2.27648802,   3.79426499,  -2.91432088,\n",
       "         -7.39863018,  -4.52471028,  -6.95226121,  -7.12657033,\n",
       "         -9.30098084,  -4.62507619,  -4.63750835,  -3.36990813,\n",
       "         -6.40101382,  -7.39217844,  -4.81780758,  -7.35561118,\n",
       "         -8.05767687,  -8.69780477,  -6.46690855,  -7.41511502,\n",
       "         -4.42772953,  -7.42207372,  -8.57514155,  -6.63298578,\n",
       "         -5.92927195,  -8.58100372,  -6.68649507,  -6.96819695,\n",
       "         -6.38981171,  -5.72389694,  -6.13453865,  -5.26400904],\n",
       "       [ -3.22341704,  -5.73214826,  -6.32144801,  -3.534559  ,\n",
       "         -6.20994484,  -6.11684314,  -6.7416088 ,  -3.42511177,\n",
       "         -4.54190527,  -2.80015716,  -1.34937156,  -1.58620322,\n",
       "         -6.50078663,  -5.33437014,  -5.56160831,  -4.99739004,\n",
       "         -7.26469246,  -4.90523238,  -6.18539245,  -6.12299767,\n",
       "         -4.19249759,  -6.72676229,  -4.18046001,  -5.59079246,\n",
       "         -6.68500925,  -6.89133795,  -7.01707249,  -5.63012391,\n",
       "         -6.75373684,  -7.24974646,  -7.10365211,  -3.7020749 ,\n",
       "         -4.58681363,  -6.31485956,  -7.34973435,  -3.20771509,\n",
       "         -4.54350926,  -1.51864972,  -3.51215579,  -4.64530006,\n",
       "         -5.7049907 ,  -5.31706311,  -5.81975097,  -6.14920326,\n",
       "         -4.29889466,  -6.18284651,  -7.07079307,  -4.86575278,\n",
       "         -6.63605756,  -6.01352421,  -4.23042309,  -4.98083272,\n",
       "         -5.79545376,  -2.41476873,  -6.57329851,  -5.44527454,\n",
       "         -4.52212341,  -7.02164614,  -6.49938429,  -5.71121131,\n",
       "         -2.41956603,  -7.3667364 ,  -2.76315796,  -5.78897512,\n",
       "         -7.36266547,  -5.73515246,  -4.33044165,  -6.9519468 ,\n",
       "         -7.06859715,  -3.65639995,  -4.16087684,  -5.48298705,\n",
       "         -7.24904946,  -6.40261144,  -8.29642521,  -6.08478781,\n",
       "         -7.62511302,  -3.61480008,  -4.97761656,  -4.72496751,\n",
       "         -5.42032598,  -6.02432234,  -5.07742791,  -6.56398295,\n",
       "         -7.38277632,  -7.22024614,  -6.5832149 ,  -6.48350433,\n",
       "         -5.15622684,  -3.72576433,  -4.32224087,  -6.80864119,\n",
       "         -6.98322355,  -4.57834718,  -5.06433247,  -6.97240265,\n",
       "         -4.94873602,  -5.4735027 ,  -3.46334904,  -4.46341818],\n",
       "       [ -4.88287127,  -5.44144703,  -6.38293042,  -3.60233245,\n",
       "         -7.30434604,  -5.39272595,  -5.03221498,  -3.75057712,\n",
       "         -4.80071285,  -3.64575366,  -1.25543894,  -2.6580546 ,\n",
       "         -6.31814286,  -4.90010228,  -6.00510729,  -5.62078536,\n",
       "         -4.67016045,  -6.07235036,  -6.69343171,  -8.11441557,\n",
       "         -4.29097987,  -8.40300835,  -3.29812365,  -6.41966735,\n",
       "         -7.30706395,  -8.26627703,  -1.48803472,  -4.55764185,\n",
       "         -6.83263686,  -9.14485385,  -8.09669528,  -8.12954988,\n",
       "         -4.18260494,  -5.29622374,  -6.87067016,  -3.68928734,\n",
       "         -4.19315509,  -1.19609804,  -3.2288026 ,  -4.627909  ,\n",
       "         -5.85402266,  -4.84545424,  -7.14048724,  -6.07110584,\n",
       "         -4.04160079,  -5.37564655,  -6.16451092,  -5.73339067,\n",
       "         -8.42833159,  -6.00169898,  -3.9603937 ,  -6.1213448 ,\n",
       "         -5.90381681,  -2.9912988 ,  -7.27047281,  -7.31643224,\n",
       "         -6.56924276,  -6.12526637,  -5.58657423,  -6.41646582,\n",
       "         -2.75538753,  -7.75063508,  -2.36483019,  -5.41036256,\n",
       "         -6.31009669,  -5.75090694,  -4.87103593,  -6.73907658,\n",
       "         -6.34904516,  -3.73599048,  -3.87257047,  -5.45466862,\n",
       "         -6.28987877,  -5.36653104,  -8.89695957,  -7.53264696,\n",
       "         -7.34697043,  -6.55857827,  -6.97688264,  -6.70720242,\n",
       "         -6.7509491 ,  -5.69849094,  -6.58063091,  -5.40547305,\n",
       "         -7.00847632,  -7.04584471,  -6.64631536,  -6.76703105,\n",
       "         -4.32574741,  -6.03131893,  -4.06735951,  -6.15466273,\n",
       "         -6.61018778,  -4.67583128,  -4.44896565,  -6.47791209,\n",
       "         -5.52236763,  -7.55260592,  -4.7592699 ,  -4.4550241 ],\n",
       "       [ -6.60450816,  -6.12241281,  -6.89481684,  -6.95226502,\n",
       "         -4.47823391,  -6.8221154 ,  -5.12495589,  -5.25698187,\n",
       "         -7.53597996,  -4.82440399,  -4.58883172,  -6.02910014,\n",
       "         -4.59452638,  -5.14541158,  -7.2309873 ,  -5.86943662,\n",
       "         -7.66992975,  -6.80230051,  -5.39560972,  -5.86802256,\n",
       "         -1.4744173 ,  -7.54212523,  -6.35810961,  -6.95695094,\n",
       "         -7.18870467,  -5.947599  ,  -5.76652762,  -4.18519893,\n",
       "         -5.18404795,  -6.59303372,  -6.91003579,  -6.18605972,\n",
       "         -3.80366685,  -6.25640424,  -7.1450402 ,  -5.85033794,\n",
       "         -5.13001825,  -4.22010803,  -1.85714053,  -3.19500215,\n",
       "         -3.99451213,  -7.27020554,  -6.22318967,  -8.21971093,\n",
       "         -5.22472489,  -5.93472997,  -5.09818083,  -6.97485768,\n",
       "         -6.16324593,  -5.87509263,  -4.77328334,  -2.31802701,\n",
       "         -4.38682616,  -5.06425374,  -6.59114578,  -6.77919346,\n",
       "         -6.0900501 ,  -7.04386472,  -7.1160732 ,  -6.08689624,\n",
       "         -3.27991515,  -6.70839355,   0.97581981,  -3.91645053,\n",
       "         -5.20859835,  -5.91362986,  -5.12243756,  -4.96368229,\n",
       "         -6.46703224,  -2.41021703,  -4.19509287,  -4.07437958,\n",
       "         -5.76646498,  -6.17075203,  -7.05462931,  -6.25297398,\n",
       "         -5.39330826,  -5.30308704,  -7.19322754,  -5.00722365,\n",
       "         -7.13405667,  -4.96851483,  -5.04825141,  -6.65785033,\n",
       "         -6.97585436,  -6.31089513,  -5.82342342,  -4.74007549,\n",
       "         -6.14692787,  -6.30726141,  -5.63258018,  -6.00997176,\n",
       "         -5.92972405,  -5.45446565,  -5.37517446,  -4.44026421,\n",
       "         -7.41484235,  -7.15848912,  -6.54733385,  -7.29735024],\n",
       "       [ -6.49244462,  -3.59443495,  -7.58175126,  -7.39961233,\n",
       "         -6.8799527 ,  -8.31589333,  -5.64090698,  -4.77108334,\n",
       "         -4.5111905 ,  -7.20001894,  -5.2609789 ,  -7.6094586 ,\n",
       "         -6.44804544,  -8.14749849,  -7.17240785,  -2.18199815,\n",
       "         -8.04580115,  -7.45607229,  -7.44534198,  -6.20162274,\n",
       "         -5.4841985 ,  -4.80441973,  -8.15654363,  -7.73602151,\n",
       "         -7.51017202,  -7.6962137 ,  -6.64813431,  -5.60314004,\n",
       "         -6.56785057,  -7.55278398,  -6.57729572,  -7.96720622,\n",
       "         -1.13486786,  -4.2616539 ,  -6.1493703 ,  -8.08910103,\n",
       "         -6.56692784,  -5.39474281,   3.29207582,   3.86557042,\n",
       "         -6.02709329,  -5.92439196,  -8.27921793,  -7.73388396,\n",
       "         -7.41761789,  -8.24864852,  -7.58272645,  -7.61459137,\n",
       "         -8.36342402,  -7.41080214,  -6.17967971,  -5.71199993,\n",
       "         -7.8247105 ,  -7.20732542,  -7.95269051,  -8.098282  ,\n",
       "         -7.39747187,  -8.32112623,  -6.49728222,  -6.29204298,\n",
       "         -3.19661759,  -8.452013  ,  -6.66984966,  -7.99776314,\n",
       "         -7.58937064,  -7.96147916,  -7.79590972,  -6.45228204,\n",
       "         -7.93572371,  -7.22497373,  -5.24029664,  -5.85483519,\n",
       "         -8.14729887,  -7.24248198,  -8.06788304,  -7.39705778,\n",
       "         -7.7412617 ,  -6.7016633 ,  -7.63827598,  -6.98903978,\n",
       "         -7.63080557,  -6.6465339 ,  -7.53093188,  -8.74325231,\n",
       "         -5.56086579,  -8.91274603,  -7.29940455,  -6.46241847,\n",
       "         -7.34803674,  -8.22957844,  -7.3286444 ,  -7.64458017,\n",
       "         -6.68703171,  -7.77520954,  -9.09497347,  -6.76373047,\n",
       "         -8.4828714 ,  -8.10793372,  -8.48592882,  -7.64557861],\n",
       "       [ -4.15013229,  -6.01529507,  -6.23482269,  -4.14107996,\n",
       "         -6.39348384,  -7.19224508,  -5.4942477 ,  -5.00403147,\n",
       "         -6.37304523,  -5.44141804,  -5.25724402,  -4.10509578,\n",
       "         -7.12859847,  -5.89698647,  -6.98213112,  -5.78902578,\n",
       "         -7.53581335,  -3.63157769,  -5.8648607 ,  -6.00128972,\n",
       "         -6.72207751,  -6.7364885 ,  -5.60107974,  -7.65021088,\n",
       "         -6.53615875,  -5.63262037,  -6.63348209,  -6.6119799 ,\n",
       "         -6.96738994,  -6.30596706,  -7.33602181,   2.51651118,\n",
       "         -5.73911387,  -6.2926813 ,  -6.72028124,  -5.09130486,\n",
       "         -5.92538964,   4.43982614,  -5.56317952,  -5.45095697,\n",
       "         -6.06808024,  -5.73681426,  -7.20829618,  -6.75365217,\n",
       "         -5.55772241,  -6.8140092 ,  -7.03513399,  -5.44021703,\n",
       "         -7.0211904 ,  -5.76271619,  -4.07489761,  -6.53945403,\n",
       "         -6.50613346,  -5.38712097,  -7.13315589,  -6.70803081,\n",
       "         -6.46978403,  -7.29820573,  -6.38251732,  -5.20104519,\n",
       "         -4.59826064,  -6.4275534 ,  -5.69532013,  -6.56137854,\n",
       "         -6.7731816 ,  -6.15581137,  -5.84938992,  -6.36265453,\n",
       "         -4.52284835,  -6.05651739,  -4.72686603,  -6.75125685,\n",
       "         -7.04615743,  -5.87576505,  -6.75916422,  -6.63240534,\n",
       "         -7.43809255,  -3.57365981,  -5.86230773,  -4.30419899,\n",
       "         -6.40341753,  -6.10887918,  -6.08123228,  -6.276716  ,\n",
       "         -7.02993854,  -6.80224929,  -6.87141418,  -6.40663653,\n",
       "         -5.92459548,  -5.60193665,  -6.37332886,  -6.96788135,\n",
       "         -6.59032713,  -5.2472012 ,  -5.84005397,  -6.97708935,\n",
       "         -5.88153631,  -6.60306954,  -4.73052911,  -4.28335751]])"
      ]
     },
     "execution_count": 34,
     "metadata": {},
     "output_type": "execute_result"
    }
   ],
   "source": [
    "y_val_predicted_scores_mybag[:10]"
   ]
  },
  {
   "cell_type": "markdown",
   "metadata": {},
   "source": [
    "Now take a look at how classifier, which uses TF-IDF, works for a few examples:"
   ]
  },
  {
   "cell_type": "code",
   "execution_count": 28,
   "metadata": {},
   "outputs": [
    {
     "name": "stdout",
     "output_type": "stream",
     "text": [
      "Title:\todbc_exec always fail\n",
      "True labels:\tphp,sql\n",
      "Predicted labels:\t\n",
      "\n",
      "\n",
      "Title:\taccess base classes variable within child class\n",
      "True labels:\tjavascript\n",
      "Predicted labels:\t\n",
      "\n",
      "\n",
      "Title:\tcontenttype application json required rails\n",
      "True labels:\truby,ruby-on-rails\n",
      "Predicted labels:\tjson,ruby-on-rails\n",
      "\n",
      "\n"
     ]
    }
   ],
   "source": [
    "y_val_pred_inversed = mlb.inverse_transform(y_val_predicted_labels_tfidf)\n",
    "y_val_inversed = mlb.inverse_transform(y_val)\n",
    "for i in range(3):\n",
    "    print('Title:\\t{}\\nTrue labels:\\t{}\\nPredicted labels:\\t{}\\n\\n'.format(\n",
    "        X_val[i],\n",
    "        ','.join(y_val_inversed[i]),\n",
    "        ','.join(y_val_pred_inversed[i])\n",
    "    ))"
   ]
  },
  {
   "cell_type": "markdown",
   "metadata": {},
   "source": [
    "Now, we would need to compare the results of different predictions, e.g. to see whether TF-IDF transformation helps or to try different regularization techniques in logistic regression. For all these experiments, we need to setup evaluation procedure. "
   ]
  },
  {
   "cell_type": "markdown",
   "metadata": {},
   "source": [
    "### Evaluation\n",
    "\n",
    "To evaluate the results we will use several classification metrics:\n",
    " - [Accuracy](http://scikit-learn.org/stable/modules/generated/sklearn.metrics.accuracy_score.html)\n",
    " The labels predicted for a sample must exactly match the corresponding set of true labels.\n",
    " - [F1-score](http://scikit-learn.org/stable/modules/generated/sklearn.metrics.f1_score.html), http://scikit-learn.org/stable/modules/model_evaluation.html#precision-recall-f-measure-metrics\n",
    "   * Precision: not to label a negative sample as positive\n",
    "   * Recall: to find all the positive samples\n",
    "   * F1 = 2 * (precision * recall) / (precision + recall)\n",
    "   \n",
    " - [Area under ROC-curve](http://scikit-learn.org/stable/modules/generated/sklearn.metrics.roc_auc_score.html)\n",
    " - [Area under precision-recall curve](http://scikit-learn.org/stable/modules/generated/sklearn.metrics.average_precision_score.html#sklearn.metrics.average_precision_score) \n",
    " \n",
    "Make sure you are familiar with all of them. How would you expect the things work for the multi-label scenario? Read about micro/macro/weighted averaging following the sklearn links provided above."
   ]
  },
  {
   "cell_type": "code",
   "execution_count": 29,
   "metadata": {
    "collapsed": true
   },
   "outputs": [],
   "source": [
    "from sklearn.metrics import accuracy_score\n",
    "from sklearn.metrics import f1_score\n",
    "from sklearn.metrics import roc_auc_score \n",
    "from sklearn.metrics import average_precision_score\n",
    "from sklearn.metrics import recall_score"
   ]
  },
  {
   "cell_type": "markdown",
   "metadata": {},
   "source": [
    "Implement the function *print_evaluation_scores* which calculates and prints to stdout:\n",
    " - *accuracy*\n",
    " - *F1-score macro/micro/weighted*\n",
    " - *Precision macro/micro/weighted*"
   ]
  },
  {
   "cell_type": "code",
   "execution_count": 30,
   "metadata": {
    "collapsed": true
   },
   "outputs": [],
   "source": [
    "def print_evaluation_scores(y_val, predicted):\n",
    "    \n",
    "    ######################################\n",
    "    ######### YOUR CODE HERE #############\n",
    "    ######################################\n",
    "    print('Accuracy Score: {:.4f}'.format(accuracy_score(y_val, predicted)))\n",
    "    print('F1-score macro/micro/weighted: {:.4f}, {:.4f}, {:.4f}'.format(f1_score(y_val, predicted,average='macro'),\n",
    "          f1_score(y_val, predicted,average='micro'),\n",
    "          f1_score(y_val, predicted,average='weighted')))\n",
    "    print('Precision macro/micro/weighted: {:.4f}, {:.4f}, {:.4f}'.format(average_precision_score(y_val,predicted, average='macro'),\n",
    "          average_precision_score(y_val,predicted, average='micro'),\n",
    "          average_precision_score(y_val,predicted, average='weighted')))"
   ]
  },
  {
   "cell_type": "code",
   "execution_count": 77,
   "metadata": {},
   "outputs": [
    {
     "name": "stdout",
     "output_type": "stream",
     "text": [
      "asdf \n",
      "5.0000\n",
      " 8.00, 9.00\n"
     ]
    }
   ],
   "source": [
    "print('asdf \\n{:.4f}\\n {:.2f}, {:.2f}'.format(5,8,9))"
   ]
  },
  {
   "cell_type": "code",
   "execution_count": 31,
   "metadata": {},
   "outputs": [
    {
     "name": "stdout",
     "output_type": "stream",
     "text": [
      "Bag-of-words\n",
      "Accuracy Score: 0.3580\n",
      "F1-score macro/micro/weighted: 0.5047, 0.6711, 0.6487\n",
      "Precision macro/micro/weighted: 0.5617, 0.7085, 0.6976\n",
      "Tfidf\n",
      "Accuracy Score: 0.3339\n",
      "F1-score macro/micro/weighted: 0.4457, 0.6418, 0.6144\n",
      "Precision macro/micro/weighted: 0.5420, 0.7017, 0.6885\n"
     ]
    }
   ],
   "source": [
    "print('Bag-of-words')\n",
    "print_evaluation_scores(y_val, y_val_predicted_labels_mybag)\n",
    "print('Tfidf')\n",
    "print_evaluation_scores(y_val, y_val_predicted_labels_tfidf)"
   ]
  },
  {
   "cell_type": "markdown",
   "metadata": {},
   "source": [
    "You might also want to plot some generalization of the [ROC curve](http://scikit-learn.org/stable/modules/model_evaluation.html#receiver-operating-characteristic-roc) for the case of multi-label classification. Provided function *roc_auc* can make it for you. The input parameters of this function are:\n",
    " - true labels\n",
    " - decision functions scores\n",
    " - number of classes"
   ]
  },
  {
   "cell_type": "code",
   "execution_count": 85,
   "metadata": {},
   "outputs": [],
   "source": [
    "from metrics import roc_auc\n",
    "%matplotlib inline"
   ]
  },
  {
   "cell_type": "code",
   "execution_count": 86,
   "metadata": {},
   "outputs": [
    {
     "data": {
      "image/png": "[encoded data removed]",
      "text/plain": [
       "<matplotlib.figure.Figure at 0x7fd79a366208>"
      ]
     },
     "metadata": {},
     "output_type": "display_data"
    }
   ],
   "source": [
    "n_classes = len(tags_counts)\n",
    "roc_auc(y_val, y_val_predicted_scores_mybag, n_classes)"
   ]
  },
  {
   "cell_type": "code",
   "execution_count": 87,
   "metadata": {},
   "outputs": [
    {
     "data": {
      "image/png": "[encoded data removed]",
      "text/plain": [
       "<matplotlib.figure.Figure at 0x7fd79aefd550>"
      ]
     },
     "metadata": {},
     "output_type": "display_data"
    }
   ],
   "source": [
    "n_classes = len(tags_counts)\n",
    "roc_auc(y_val, y_val_predicted_scores_tfidf, n_classes)"
   ]
  },
  {
   "cell_type": "markdown",
   "metadata": {},
   "source": [
    "**Task 4 (MultilabelClassification).** Once we have the evaluation set up, we suggest that you experiment a bit with training your classifiers. We will use *F1-score weighted* as an evaluation metric. Our recommendation:\n",
    "- compare the quality of the bag-of-words and TF-IDF approaches and chose one of them.\n",
    "- for the chosen one, try *L1* and *L2*-regularization techniques in Logistic Regression with different coefficients (e.g. C equal to 0.1, 1, 10, 100).\n",
    "\n",
    "You also could try other improvements of the preprocessing / model, if you want. "
   ]
  },
  {
   "cell_type": "code",
   "execution_count": null,
   "metadata": {
    "collapsed": true
   },
   "outputs": [],
   "source": [
    "######################################\n",
    "######### YOUR CODE HERE #############\n",
    "######################################"
   ]
  },
  {
   "cell_type": "markdown",
   "metadata": {},
   "source": [
    "When you are happy with the quality, create predictions for *test* set, which you will submit to Coursera."
   ]
  },
  {
   "cell_type": "code",
   "execution_count": null,
   "metadata": {
    "collapsed": true
   },
   "outputs": [],
   "source": [
    "test_predictions = ######### YOUR CODE HERE #############\n",
    "test_pred_inversed = mlb.inverse_transform(test_predictions)\n",
    "\n",
    "test_predictions_for_submission = '\\n'.join('%i\\t%s' % (i, ','.join(row)) for i, row in enumerate(test_pred_inversed))\n",
    "grader.submit_tag('MultilabelClassification', test_predictions_for_submission)"
   ]
  },
  {
   "cell_type": "markdown",
   "metadata": {},
   "source": [
    "### Analysis of the most important features"
   ]
  },
  {
   "cell_type": "markdown",
   "metadata": {},
   "source": [
    "Finally, it is usually a good idea to look at the features (words or n-grams) that are used with the largest weights in your logistic regression model."
   ]
  },
  {
   "cell_type": "markdown",
   "metadata": {},
   "source": [
    "Implement the function *print_words_for_tag* to find them. Get back to sklearn documentation on [OneVsRestClassifier](http://scikit-learn.org/stable/modules/generated/sklearn.multiclass.OneVsRestClassifier.html) and [LogisticRegression](http://scikit-learn.org/stable/modules/generated/sklearn.linear_model.LogisticRegression.html) if needed."
   ]
  },
  {
   "cell_type": "code",
   "execution_count": 76,
   "metadata": {
    "collapsed": true
   },
   "outputs": [],
   "source": [
    "def print_words_for_tag(classifier, tag, tags_classes, index_to_words, all_words):\n",
    "    \"\"\"\n",
    "        classifier: trained classifier\n",
    "        tag: particular tag\n",
    "        tags_classes: a list of classes names from MultiLabelBinarizer\n",
    "        index_to_words: index_to_words transformation\n",
    "        all_words: all words in the dictionary\n",
    "        \n",
    "        return nothing, just print top 5 positive and top 5 negative words for current tag\n",
    "    \"\"\"\n",
    "    print('Tag:\\t{}'.format(tag))\n",
    "    \n",
    "    # Extract an estimator from the classifier for the given tag.\n",
    "    # Extract feature coefficients from the estimator. \n",
    "    \n",
    "    ######################################\n",
    "    ######### YOUR CODE HERE #############\n",
    "    ######################################\n",
    "    tag_est = classifier.estimators_[tags_classes.index(tag)]\n",
    "    word_sorted_index = tag_est.coef_.reshape(-1).argsort()\n",
    "    top_positive_words = [index_to_words[x] for x in word_sorted_index[:-6:-1]] # top-5 words sorted by the coefficiens.\n",
    "    top_negative_words = [index_to_words[x] for x in word_sorted_index[:5]] # bottom-5 words  sorted by the coefficients.\n",
    "    print('Top positive words:\\t{}'.format(', '.join(top_positive_words)))\n",
    "    print('Top negative words:\\t{}\\n'.format(', '.join(top_negative_words)))"
   ]
  },
  {
   "cell_type": "code",
   "execution_count": 77,
   "metadata": {},
   "outputs": [
    {
     "name": "stdout",
     "output_type": "stream",
     "text": [
      "Tag:\tc\n",
      "Top positive words:\tc, malloc, scanf, printf, gcc\n",
      "Top negative words:\tjava, php, python, javascript, c#\n",
      "\n",
      "Tag:\tc++\n",
      "Top positive words:\tc++, qt, boost, mfc, opencv\n",
      "Top negative words:\tjava, php, python, javascript, c#\n",
      "\n",
      "Tag:\tlinux\n",
      "Top positive words:\tlinux, ubuntu, c, address, signal\n",
      "Top negative words:\tjavascript, c#, jquery, array, method\n",
      "\n"
     ]
    }
   ],
   "source": [
    "print_words_for_tag(classifier_tfidf, 'c', mlb.classes, tfidf_reversed_vocab, ALL_WORDS)\n",
    "print_words_for_tag(classifier_tfidf, 'c++', mlb.classes, tfidf_reversed_vocab, ALL_WORDS)\n",
    "print_words_for_tag(classifier_tfidf, 'linux', mlb.classes, tfidf_reversed_vocab, ALL_WORDS)"
   ]
  }
 ],
 "metadata": {
  "kernelspec": {
   "display_name": "Python 3",
   "language": "python",
   "name": "python3"
  },
  "language_info": {
   "codemirror_mode": {
    "name": "ipython",
    "version": 3
   },
   "file_extension": ".py",
   "mimetype": "text/x-python",
   "name": "python",
   "nbconvert_exporter": "python",
   "pygments_lexer": "ipython3",
   "version": "3.6.0"
  }
 },
 "nbformat": 4,
 "nbformat_minor": 2
}
